{
 "cells": [
  {
   "cell_type": "markdown",
   "metadata": {},
   "source": [
    "# Notebook version of QAOA"
   ]
  },
  {
   "cell_type": "code",
   "execution_count": 1,
   "metadata": {},
   "outputs": [],
   "source": [
    "# pip install qsharp"
   ]
  },
  {
   "cell_type": "code",
   "execution_count": 2,
   "metadata": {},
   "outputs": [
    {
     "data": {
      "application/javascript": [
       "// Copyright (c) Microsoft Corporation.\n",
       "// Licensed under the MIT License.\n",
       "\n",
       "// This file provides CodeMirror syntax highlighting for Q# magic cells\n",
       "// in classic Jupyter Notebooks. It does nothing in other (Jupyter Notebook 7,\n",
       "// VS Code, Azure Notebooks, etc.) environments.\n",
       "\n",
       "// Detect the prerequisites and do nothing if they don't exist.\n",
       "if (window.require && window.CodeMirror && window.Jupyter) {\n",
       "  // The simple mode plugin for CodeMirror is not loaded by default, so require it.\n",
       "  window.require([\"codemirror/addon/mode/simple\"], function defineMode() {\n",
       "    let rules = [\n",
       "      {\n",
       "        token: \"comment\",\n",
       "        regex: /(\\/\\/).*/,\n",
       "        beginWord: false,\n",
       "      },\n",
       "      {\n",
       "        token: \"string\",\n",
       "        regex: String.raw`^\\\"(?:[^\\\"\\\\]|\\\\[\\s\\S])*(?:\\\"|$)`,\n",
       "        beginWord: false,\n",
       "      },\n",
       "      {\n",
       "        token: \"keyword\",\n",
       "        regex: String.raw`(namespace|open|as|operation|function|body|adjoint|newtype|controlled|internal)\\b`,\n",
       "        beginWord: true,\n",
       "      },\n",
       "      {\n",
       "        token: \"keyword\",\n",
       "        regex: String.raw`(if|elif|else|repeat|until|fixup|for|in|return|fail|within|apply)\\b`,\n",
       "        beginWord: true,\n",
       "      },\n",
       "      {\n",
       "        token: \"keyword\",\n",
       "        regex: String.raw`(Adjoint|Controlled|Adj|Ctl|is|self|auto|distribute|invert|intrinsic)\\b`,\n",
       "        beginWord: true,\n",
       "      },\n",
       "      {\n",
       "        token: \"keyword\",\n",
       "        regex: String.raw`(let|set|use|borrow|mutable)\\b`,\n",
       "        beginWord: true,\n",
       "      },\n",
       "      {\n",
       "        token: \"operatorKeyword\",\n",
       "        regex: String.raw`(not|and|or)\\b|(w/)`,\n",
       "        beginWord: true,\n",
       "      },\n",
       "      {\n",
       "        token: \"operatorKeyword\",\n",
       "        regex: String.raw`(=)|(!)|(<)|(>)|(\\+)|(-)|(\\*)|(/)|(\\^)|(%)|(\\|)|(&&&)|(~~~)|(\\.\\.\\.)|(\\.\\.)|(\\?)`,\n",
       "        beginWord: false,\n",
       "      },\n",
       "      {\n",
       "        token: \"meta\",\n",
       "        regex: String.raw`(Int|BigInt|Double|Bool|Qubit|Pauli|Result|Range|String|Unit)\\b`,\n",
       "        beginWord: true,\n",
       "      },\n",
       "      {\n",
       "        token: \"atom\",\n",
       "        regex: String.raw`(true|false|Pauli(I|X|Y|Z)|One|Zero)\\b`,\n",
       "        beginWord: true,\n",
       "      },\n",
       "    ];\n",
       "    let simpleRules = [];\n",
       "    for (let rule of rules) {\n",
       "      simpleRules.push({\n",
       "        token: rule.token,\n",
       "        regex: new RegExp(rule.regex, \"g\"),\n",
       "        sol: rule.beginWord,\n",
       "      });\n",
       "      if (rule.beginWord) {\n",
       "        // Need an additional rule due to the fact that CodeMirror simple mode doesn't work with ^ token\n",
       "        simpleRules.push({\n",
       "          token: rule.token,\n",
       "          regex: new RegExp(String.raw`\\W` + rule.regex, \"g\"),\n",
       "          sol: false,\n",
       "        });\n",
       "      }\n",
       "    }\n",
       "\n",
       "    // Register the mode defined above with CodeMirror\n",
       "    window.CodeMirror.defineSimpleMode(\"qsharp\", { start: simpleRules });\n",
       "    window.CodeMirror.defineMIME(\"text/x-qsharp\", \"qsharp\");\n",
       "\n",
       "    // Tell Jupyter to associate %%qsharp magic cells with the qsharp mode\n",
       "    window.Jupyter.CodeCell.options_default.highlight_modes[\"qsharp\"] = {\n",
       "      reg: [/^%%qsharp/],\n",
       "    };\n",
       "\n",
       "    // Force re-highlighting of all cells the first time this code runs\n",
       "    for (const cell of window.Jupyter.notebook.get_cells()) {\n",
       "      cell.auto_highlight();\n",
       "    }\n",
       "  });\n",
       "}\n"
      ],
      "text/plain": []
     },
     "metadata": {},
     "output_type": "display_data"
    }
   ],
   "source": [
    "# This Notebook is an independent implementation of QAOA using Q# and Python.\n",
    "\n",
    "# Needed libraries\n",
    "\n",
    "# pip install numpy\n",
    "# pip install matplotlib\n",
    "# pip install docplex\n",
    "# pip install qsharp\n",
    "# pip install scipy\n",
    "# pip install qiskit_optimization\n",
    "\n",
    "# Importing required libraries\n",
    "# General imports\n",
    "import time\n",
    "from numpy import pi\n",
    "import numpy as np\n",
    "import matplotlib.pyplot as plt\n",
    "\n",
    "# Libraries for Model Formulation\n",
    "from docplex.mp.model import Model\n",
    "from scipy.optimize import minimize\n",
    "\n",
    "# Qiskit Imports\n",
    "from qiskit_optimization.converters import QuadraticProgramToQubo\n",
    "from qiskit_optimization.translators import from_docplex_mp\n",
    "\n",
    "# Qsharp\n",
    "import qsharp"
   ]
  },
  {
   "cell_type": "markdown",
   "metadata": {},
   "source": [
    "# Quantum Approximate Optimization Algorithm (QAOA)\n",
    "\n",
    "The Quantum Approximate Optimization Algorithm (QAOA) is an algorithm for solving combinatorial optimization problems; Here we provide the steps we need to take in order to run QAOA.\n",
    "\n",
    "## Mapping to a Hamiltonian\n",
    "\n",
    "QUBO's can be mapped to a Hamiltonian which can then be implemented on a Quantum Computer. This mapping is usually done to an Ising Model. An example map is $x_i \\rightarrow \\frac{1- Z_i}{2}$, which maps a binary variable $x_i$ to Pauli spin $Z_i$. We can use this map to get the Cost Hamiltonian $H_C$, \n",
    "\n",
    "\\begin{equation}\\tag{1}\n",
    "    H_C =  \\sum_{i,j}^{n} \\frac{1}{4} Q_{ij} Z_i Z_j - \\sum_{j}^{n} \\frac{1}{2} \\left( c_i + \\sum_{i}^{n} Q_{ij} \\right) Z_i.\n",
    "\\end{equation}\n",
    "\n",
    "Once we have the Cost Hamiltonian we can define the Mixer Hamiltonian $H_M$ as\n",
    "\n",
    "\\begin{equation}\\tag{2}\n",
    "    H_M = \\sum_{i}^{n} X_i.    \n",
    "\\end{equation}\n",
    "\n",
    "\n",
    "## Implementing the Hamiltonians\n",
    "\n",
    "Once we have the Hamiltonians we must define unitaries representing the Hamiltonian's ($H_C$ and $H_M$).\n",
    "\n",
    "\\begin{align}\n",
    "    \\hat U_C(\\gamma) &= e^{-i\\gamma H_C} \\tag{3a}\\\\\n",
    "    \\hat U_M(\\beta) &= e^{-i\\beta H_M}, \\tag{3b}\n",
    "\\end{align}\n",
    "\n",
    "Where $\\gamma$ and $\\beta$ are variational parameters of the circuit. \n",
    "We call $\\hat U_C(\\gamma)$ and $\\hat U_M(\\beta)$ the cost and mixer layers, respectively.\n",
    "A single QAOA layer consists of one cost and one mixer layer, which can be further stacked to build a deeper circuit with more layers. Each element in the mixer layer can be implemented with a single rotation gate $R_X$. \n",
    "\n",
    "\\begin{equation}\\tag{4}\n",
    "    \\hat U_M(\\beta) = e^{-i\\beta H_M} = \\prod_{i=1}^n R_{X_i}(2\\beta)\n",
    "\\end{equation}\n",
    "\n",
    "\\begin{equation}\\tag{5}\n",
    "    \\hat U_C(\\gamma) = \\prod_{i=1, j<i}^n R_{Z_iZ_j} \\left( \\frac{1}{4}Q_{ij} \\gamma \\right)\n",
    "    \\prod_{i=1}^n R_{Z_i} \\left(  \\frac{1}{2} \\left( c_i + \\sum_{j=1}^{n} Q_{ij} \\right) \\gamma \\right)\n",
    "\\end{equation}\n",
    "\n",
    "(4) and (5) are the gate decomposition of the unitaries in (3). \n",
    "\n",
    "## Layers\n",
    "\n",
    "Define the total number of QAOA layers, $p \\geq 1$. \n",
    "Initialize the $2p$ variational parameters ${\\gamma} = (\\gamma_1,\\gamma_2,\\ldots,\\gamma_p)$ and ${\\beta} = (\\beta_1,\\beta_2,\\ldots,\\beta_p)$ such that $\\gamma_k \\in [0,2\\pi)$ and $\\beta_k \\in [0,\\pi)$ for $k = 1, \\dots, p$. \n",
    "\n",
    "The final state output by the circuit is, therefore, given by\n",
    "    \n",
    "\\begin{equation}\\tag{6}\n",
    "  \\ket{\\psi_p({\\gamma},{\\beta})} = e^{-i\\beta_p H_M} e^{-i\\gamma_p H_C} \\ldots e^{-i\\beta_1 H_M} e^{-i\\gamma_1H_C} \\ket{s}.\n",
    "\\end{equation}\n",
    "\n",
    "## Measurement and Expectation Value\n",
    "\n",
    "The expectation value of the Hamiltonian $h_C$ with respect to the ansatz state $\\ket{\\psi_p({\\gamma},{\\beta})}$, which corresponds to the cost obtained by the quantum algorithm for the underlying problem, is calculated through repeated measurements of the final state in the computational basis:\n",
    "\n",
    "\n",
    "\\begin{equation}\\tag{7}\n",
    "  F_p({\\gamma},{\\beta}) =  \\bra {\\psi_p({\\gamma},{\\beta})} {H_C} \\ket {\\psi_p({\\gamma},{\\beta})}\n",
    "\\end{equation}\n",
    "\n",
    "## Optimizer\n",
    "\n",
    "A classical optimization algorithm is employed to iteratively update the parameters ${\\gamma}$ and ${\\beta}$. The goal of the aforementioned routine is to find the optimal set of parameters $({\\gamma}^*,{\\beta}^*)$ such that the expectation value $F_p({\\gamma},{\\beta})$ is maximized:\n",
    "\n",
    "\\begin{equation}\\tag{8}\n",
    "  ({\\gamma}^*,{\\beta}^*) = \\arg\\min_{{\\gamma},{\\beta}} F_p({\\gamma},{\\beta})\n",
    "\\end{equation}"
   ]
  },
  {
   "cell_type": "code",
   "execution_count": 3,
   "metadata": {},
   "outputs": [],
   "source": [
    "# Defining helper functions.\n",
    "def find_most_common_solutions(input_dict, n):\n",
    "    \"\"\"\n",
    "    Sorts the keys of the input dictionary in descending order based on their values and returns the first n keys.\n",
    "\n",
    "    Arguments:\n",
    "        input_dict (dict): A dictionary containing the keys and their corresponding values.\n",
    "        n (int): The number of most common solutions to return.\n",
    "\n",
    "    Returns:\n",
    "        list: A list of the n most common keys sorted in descending order based on their values.\n",
    "    \"\"\"\n",
    "    sorted_keys = sorted(input_dict, key=input_dict.get, reverse=True)\n",
    "    return sorted_keys[:n]\n",
    "\n",
    "\n",
    "# Building the model and its Cost Function\n",
    "def build_qubo(arr: list):\n",
    "    \"\"\"\n",
    "    Function to build a QUBO (Quadratic Unconstrained Binary Optimization) model from a given array\n",
    "    for the Number Partitioning Problem (NPP).\n",
    "\n",
    "    Arguments:\n",
    "        arr (list): a list of integers representing the array from which the QUBO model is built\n",
    "\n",
    "    Returns:\n",
    "        tuple: containing the quadratic coefficients, linear coefficients, and the QUBO model\n",
    "    \"\"\"\n",
    "\n",
    "    # Length of the array - Length of the binary vector x\n",
    "    n = len(arr)\n",
    "    # Sum of the array - c\n",
    "    c = sum(arr)\n",
    "\n",
    "    # Building the model and its QUBO formulation.\n",
    "    model = Model()\n",
    "    x = model.binary_var_list(n)\n",
    "\n",
    "    # Cost Function for Number Partitioning Problem (NPP)\n",
    "    Q =  (c - 2*sum(arr[i]*x[i] for i in range(n)))**2\n",
    "    model.minimize(Q)   \n",
    "    problem = from_docplex_mp(model)\n",
    "\n",
    "    # QUBO formulation\n",
    "    converter = QuadraticProgramToQubo()\n",
    "    qubo = converter.convert(problem)\n",
    "\n",
    "    # Quadratic and Linear Coefficients\n",
    "    quadratics = qubo.objective.quadratic.coefficients\n",
    "    linears = qubo.objective.linear.coefficients\n",
    "\n",
    "    return quadratics, linears, qubo\n",
    "\n",
    "def integer_to_counts(n: int, result: list) -> dict:\n",
    "    \"\"\"\n",
    "    Given a list of integers (output of the circuit), returns a dictionary with the counts of each integer.\n",
    "\n",
    "    Args:\n",
    "        n (int): The number of qubits in the circuit. Width of the bitstring.\n",
    "        a (list): The integer array to be converted.\n",
    "\n",
    "    Returns:\n",
    "        dict: A dictionary representing the counts of the integers (bitstrings).\n",
    "\n",
    "    Example:\n",
    "        >>> interger_to_counts(2 ,[1, 2, 3, 2, 1, 0])\n",
    "        {'00': 1, '01': 2, '10': 1, '11': 0}\n",
    "    \"\"\"\n",
    "    counts = {}\n",
    "    for i in range(2**n):\n",
    "        counts[np.binary_repr(i,width=n)] = 0\n",
    "    for integer in result:\n",
    "        counts[np.binary_repr(integer,width=n)] += 1\n",
    "    return counts\n",
    "\n",
    "def arr_to_str(a: np.ndarray) -> str:\n",
    "    \"\"\"\n",
    "    Converts a given array to a string representation.\n",
    "\n",
    "    Args:\n",
    "        a (list): The array to be converted.\n",
    "\n",
    "    Returns:\n",
    "        str: The string representation of the array.\n",
    "\n",
    "    Example:\n",
    "        >>> arr_to_str([1, 2, 3])\n",
    "        '[1, 2, 3]'\n",
    "    \"\"\"\n",
    "    string =''\n",
    "    for i in a:\n",
    "        string += str(i) + \",\"\n",
    "    return '[' + string[:-1] + ']'"
   ]
  },
  {
   "cell_type": "markdown",
   "metadata": {},
   "source": [
    "## QAOA in Q# \n",
    "\n",
    "Below is the code written in Q# for running the QAOA circuit.\n",
    "\n",
    "> Note: Run the *Q#* code only once per run as running the *Q#* again during the same run will give an error. "
   ]
  },
  {
   "cell_type": "code",
   "execution_count": 4,
   "metadata": {
    "vscode": {
     "languageId": "qsharp"
    }
   },
   "outputs": [],
   "source": [
    "%%qsharp\n",
    "// This is the Q# snippet used to create and simulate the QAOA circuit. \n",
    "namespace qaoa_note{\n",
    "\n",
    "    open Microsoft.Quantum.Measurement;\n",
    "\n",
    "    // Function for getting flat index\n",
    "    operation flat_index(n: Int, i: Int, j: Int): Int{\n",
    "        return n*i + j\n",
    "    }\n",
    "    // Cost Hamiltonian\n",
    "    operation cost_unitary(qubits: Qubit[], gamma: Double, quadratics: Double[], linears: Double[]): Unit{\n",
    "        \n",
    "        let n_qubits = Length(linears);\n",
    "        mutable quad_sum : Double = 0.0;\n",
    "\n",
    "        // RZ Gates\n",
    "        for qubit in 0..n_qubits-1{\n",
    "            set quad_sum = 0.0;\n",
    "            for quad_qubit in 0..n_qubits-1{\n",
    "                set quad_sum += quadratics[flat_index(n_qubits,qubit,quad_qubit)];\n",
    "            }\n",
    "            Rz(0.5 * (linears[qubit] + quad_sum) * gamma, qubits[qubit])\n",
    "        }\n",
    "        // RZZ Gates\n",
    "        for i in 0..n_qubits-1{\n",
    "            for j in i+1..n_qubits-1{                \n",
    "                Rzz(0.25 * quadratics[flat_index(n_qubits,i,j)] * gamma, qubits[i], qubits[j])\n",
    "            }\n",
    "        }\n",
    "    }\n",
    "\n",
    "    // Mixer Hamiltonian\n",
    "    operation mixer_unitary(qubits: Qubit[], beta: Double) : Unit{\n",
    "        for qubit in qubits{\n",
    "            Rx(2.0 * beta,qubit);\n",
    "        }\n",
    "    }\n",
    "\n",
    "    // Function to create the QAOA circuit.\n",
    "    operation circuit(NQubits: Int, Layers: Int, gammas: Double[], betas: Double[], quadratics: Double[], linears: Double[]) : Int {\n",
    "\n",
    "        use q = Qubit[NQubits]; \n",
    "        mutable integer_result = 0;\n",
    "        \n",
    "        // State Preparation |+>\n",
    "        ApplyToEachA(H,q);\n",
    "\n",
    "        for layer in 0..Layers-1{\n",
    "            cost_unitary(q, gammas[layer], quadratics, linears);\n",
    "            mixer_unitary(q, betas[layer]);\n",
    "        }\n",
    "        // Return the bitstring as an integer.\n",
    "        return MeasureInteger(q);\n",
    "    }\n",
    "}\n"
   ]
  },
  {
   "cell_type": "markdown",
   "metadata": {},
   "source": [
    "# Optimization\n"
   ]
  },
  {
   "cell_type": "code",
   "execution_count": 11,
   "metadata": {},
   "outputs": [
    {
     "data": {},
     "metadata": {},
     "output_type": "display_data"
    },
    {
     "name": "stdout",
     "output_type": "stream",
     "text": [
      "Function call: 1 - Cost: 4.96\n"
     ]
    },
    {
     "data": {},
     "metadata": {},
     "output_type": "display_data"
    },
    {
     "name": "stdout",
     "output_type": "stream",
     "text": [
      "Function call: 2 - Cost: 4.18\n"
     ]
    },
    {
     "data": {},
     "metadata": {},
     "output_type": "display_data"
    },
    {
     "name": "stdout",
     "output_type": "stream",
     "text": [
      "Function call: 3 - Cost: 6.14\n"
     ]
    },
    {
     "data": {},
     "metadata": {},
     "output_type": "display_data"
    },
    {
     "name": "stdout",
     "output_type": "stream",
     "text": [
      "Function call: 4 - Cost: 6.44\n"
     ]
    },
    {
     "data": {},
     "metadata": {},
     "output_type": "display_data"
    },
    {
     "name": "stdout",
     "output_type": "stream",
     "text": [
      "Function call: 5 - Cost: 4.76\n"
     ]
    },
    {
     "data": {},
     "metadata": {},
     "output_type": "display_data"
    },
    {
     "name": "stdout",
     "output_type": "stream",
     "text": [
      "Function call: 6 - Cost: 3.9\n"
     ]
    },
    {
     "data": {},
     "metadata": {},
     "output_type": "display_data"
    },
    {
     "name": "stdout",
     "output_type": "stream",
     "text": [
      "Function call: 7 - Cost: 4.94\n"
     ]
    },
    {
     "data": {},
     "metadata": {},
     "output_type": "display_data"
    },
    {
     "name": "stdout",
     "output_type": "stream",
     "text": [
      "Function call: 8 - Cost: 5.04\n"
     ]
    },
    {
     "data": {},
     "metadata": {},
     "output_type": "display_data"
    },
    {
     "name": "stdout",
     "output_type": "stream",
     "text": [
      "Function call: 9 - Cost: 5.38\n"
     ]
    },
    {
     "data": {},
     "metadata": {},
     "output_type": "display_data"
    },
    {
     "name": "stdout",
     "output_type": "stream",
     "text": [
      "Function call: 10 - Cost: 4.18\n"
     ]
    },
    {
     "data": {},
     "metadata": {},
     "output_type": "display_data"
    },
    {
     "name": "stdout",
     "output_type": "stream",
     "text": [
      "Function call: 11 - Cost: 5.68\n"
     ]
    },
    {
     "data": {},
     "metadata": {},
     "output_type": "display_data"
    },
    {
     "name": "stdout",
     "output_type": "stream",
     "text": [
      "Function call: 12 - Cost: 4.98\n"
     ]
    },
    {
     "data": {},
     "metadata": {},
     "output_type": "display_data"
    },
    {
     "name": "stdout",
     "output_type": "stream",
     "text": [
      "Function call: 13 - Cost: 4.04\n"
     ]
    },
    {
     "data": {},
     "metadata": {},
     "output_type": "display_data"
    },
    {
     "name": "stdout",
     "output_type": "stream",
     "text": [
      "Function call: 14 - Cost: 4.1\n"
     ]
    },
    {
     "data": {},
     "metadata": {},
     "output_type": "display_data"
    },
    {
     "name": "stdout",
     "output_type": "stream",
     "text": [
      "Function call: 15 - Cost: 4.16\n"
     ]
    },
    {
     "data": {},
     "metadata": {},
     "output_type": "display_data"
    },
    {
     "name": "stdout",
     "output_type": "stream",
     "text": [
      "Function call: 16 - Cost: 3.96\n"
     ]
    },
    {
     "data": {},
     "metadata": {},
     "output_type": "display_data"
    },
    {
     "name": "stdout",
     "output_type": "stream",
     "text": [
      "Function call: 17 - Cost: 6.22\n"
     ]
    },
    {
     "data": {},
     "metadata": {},
     "output_type": "display_data"
    },
    {
     "name": "stdout",
     "output_type": "stream",
     "text": [
      "Function call: 18 - Cost: 4.52\n"
     ]
    },
    {
     "data": {},
     "metadata": {},
     "output_type": "display_data"
    },
    {
     "name": "stdout",
     "output_type": "stream",
     "text": [
      "Function call: 19 - Cost: 6.16\n"
     ]
    },
    {
     "data": {},
     "metadata": {},
     "output_type": "display_data"
    },
    {
     "name": "stdout",
     "output_type": "stream",
     "text": [
      "Function call: 20 - Cost: 5.0\n"
     ]
    },
    {
     "data": {},
     "metadata": {},
     "output_type": "display_data"
    },
    {
     "name": "stdout",
     "output_type": "stream",
     "text": [
      "Function call: 21 - Cost: 3.98\n"
     ]
    },
    {
     "data": {},
     "metadata": {},
     "output_type": "display_data"
    },
    {
     "name": "stdout",
     "output_type": "stream",
     "text": [
      "Function call: 22 - Cost: 3.78\n"
     ]
    },
    {
     "data": {},
     "metadata": {},
     "output_type": "display_data"
    },
    {
     "name": "stdout",
     "output_type": "stream",
     "text": [
      "Function call: 23 - Cost: 4.42\n"
     ]
    },
    {
     "data": {},
     "metadata": {},
     "output_type": "display_data"
    },
    {
     "name": "stdout",
     "output_type": "stream",
     "text": [
      "Function call: 24 - Cost: 4.28\n"
     ]
    },
    {
     "data": {},
     "metadata": {},
     "output_type": "display_data"
    },
    {
     "name": "stdout",
     "output_type": "stream",
     "text": [
      "Function call: 25 - Cost: 3.72\n"
     ]
    },
    {
     "data": {},
     "metadata": {},
     "output_type": "display_data"
    },
    {
     "name": "stdout",
     "output_type": "stream",
     "text": [
      "Function call: 26 - Cost: 3.36\n"
     ]
    },
    {
     "data": {},
     "metadata": {},
     "output_type": "display_data"
    },
    {
     "name": "stdout",
     "output_type": "stream",
     "text": [
      "Function call: 27 - Cost: 3.98\n"
     ]
    },
    {
     "data": {},
     "metadata": {},
     "output_type": "display_data"
    },
    {
     "name": "stdout",
     "output_type": "stream",
     "text": [
      "Function call: 28 - Cost: 4.32\n"
     ]
    },
    {
     "data": {},
     "metadata": {},
     "output_type": "display_data"
    },
    {
     "name": "stdout",
     "output_type": "stream",
     "text": [
      "Function call: 29 - Cost: 4.14\n"
     ]
    },
    {
     "data": {},
     "metadata": {},
     "output_type": "display_data"
    },
    {
     "name": "stdout",
     "output_type": "stream",
     "text": [
      "Function call: 30 - Cost: 3.78\n"
     ]
    },
    {
     "data": {},
     "metadata": {},
     "output_type": "display_data"
    },
    {
     "name": "stdout",
     "output_type": "stream",
     "text": [
      "Function call: 31 - Cost: 3.62\n"
     ]
    },
    {
     "data": {},
     "metadata": {},
     "output_type": "display_data"
    },
    {
     "name": "stdout",
     "output_type": "stream",
     "text": [
      "Function call: 32 - Cost: 4.24\n"
     ]
    },
    {
     "data": {},
     "metadata": {},
     "output_type": "display_data"
    },
    {
     "name": "stdout",
     "output_type": "stream",
     "text": [
      "Function call: 33 - Cost: 4.02\n"
     ]
    },
    {
     "data": {},
     "metadata": {},
     "output_type": "display_data"
    },
    {
     "name": "stdout",
     "output_type": "stream",
     "text": [
      "Function call: 34 - Cost: 4.12\n"
     ]
    },
    {
     "data": {},
     "metadata": {},
     "output_type": "display_data"
    },
    {
     "name": "stdout",
     "output_type": "stream",
     "text": [
      "Function call: 35 - Cost: 3.38\n"
     ]
    },
    {
     "data": {},
     "metadata": {},
     "output_type": "display_data"
    },
    {
     "name": "stdout",
     "output_type": "stream",
     "text": [
      "Function call: 36 - Cost: 4.16\n"
     ]
    },
    {
     "data": {},
     "metadata": {},
     "output_type": "display_data"
    },
    {
     "name": "stdout",
     "output_type": "stream",
     "text": [
      "Function call: 37 - Cost: 4.3\n"
     ]
    },
    {
     "data": {},
     "metadata": {},
     "output_type": "display_data"
    },
    {
     "name": "stdout",
     "output_type": "stream",
     "text": [
      "Function call: 38 - Cost: 4.1\n"
     ]
    },
    {
     "data": {},
     "metadata": {},
     "output_type": "display_data"
    },
    {
     "name": "stdout",
     "output_type": "stream",
     "text": [
      "Function call: 39 - Cost: 3.92\n"
     ]
    },
    {
     "data": {},
     "metadata": {},
     "output_type": "display_data"
    },
    {
     "name": "stdout",
     "output_type": "stream",
     "text": [
      "Function call: 40 - Cost: 3.58\n"
     ]
    },
    {
     "data": {},
     "metadata": {},
     "output_type": "display_data"
    },
    {
     "name": "stdout",
     "output_type": "stream",
     "text": [
      "Function call: 41 - Cost: 3.48\n"
     ]
    },
    {
     "data": {},
     "metadata": {},
     "output_type": "display_data"
    },
    {
     "name": "stdout",
     "output_type": "stream",
     "text": [
      "Function call: 42 - Cost: 4.3\n"
     ]
    },
    {
     "data": {},
     "metadata": {},
     "output_type": "display_data"
    },
    {
     "name": "stdout",
     "output_type": "stream",
     "text": [
      "Function call: 43 - Cost: 4.02\n"
     ]
    },
    {
     "data": {},
     "metadata": {},
     "output_type": "display_data"
    },
    {
     "name": "stdout",
     "output_type": "stream",
     "text": [
      "Function call: 44 - Cost: 3.62\n"
     ]
    },
    {
     "data": {},
     "metadata": {},
     "output_type": "display_data"
    },
    {
     "name": "stdout",
     "output_type": "stream",
     "text": [
      "Function call: 45 - Cost: 4.66\n"
     ]
    },
    {
     "data": {},
     "metadata": {},
     "output_type": "display_data"
    },
    {
     "name": "stdout",
     "output_type": "stream",
     "text": [
      "Function call: 46 - Cost: 3.86\n"
     ]
    },
    {
     "data": {},
     "metadata": {},
     "output_type": "display_data"
    },
    {
     "name": "stdout",
     "output_type": "stream",
     "text": [
      "Function call: 47 - Cost: 3.96\n",
      "\n",
      "Elapsed time for QAOA: 1.097564935684204 seconds\n",
      "Gammas: [ 1.77097358 -0.12099299]\n",
      "Betas: [-0.22376559  0.311753  ]\n",
      "Final Cost: 3.96\n",
      "\n"
     ]
    },
    {
     "data": {},
     "metadata": {},
     "output_type": "display_data"
    }
   ],
   "source": [
    "# Global variables for function calls and tracking cost.\n",
    "func_call = 0\n",
    "theta = []\n",
    "cost = []\n",
    "\n",
    "# Callback function\n",
    "def callback_func(x):\n",
    "    theta.append(x)\n",
    "    return None\n",
    "\n",
    "# QAOA Function for the Number Partitioning Problem\n",
    "def qaoa_NPP(arr,layers:int):\n",
    "    \"\"\"\n",
    "    Function implementing the QAOA algorithm for the Number Partitioning Problem.\n",
    "\n",
    "    Args:\n",
    "        arr (list): a list of integers.\n",
    "        layers (int): the number of layers in the QAOA circuit.\n",
    "    Returns:\n",
    "        counts (dict): a dictionary containing the counts of each bitstring.\n",
    "\n",
    "    \"\"\"\n",
    "    # Building the QUBO for NPP\n",
    "    quadratics, linears, qubo = build_qubo(arr)\n",
    "    num_qubits = len(arr)\n",
    "\n",
    "    # Preparing the coefficients as flattened numpy arrays\n",
    "    quadratics = quadratics.toarray().flatten()\n",
    "    linears = linears.toarray()\n",
    "\n",
    "    def npp_obj(bit_string, arr):\n",
    "        \"\"\"Calculate the objective value for a given bit string for NPP.\n",
    "        \n",
    "        Args:\n",
    "            bit_string (str): Bit string representing the partition.\n",
    "            arr (list): List of integers representing the numbers to be partitioned.\n",
    "            \n",
    "        Returns:\n",
    "            float: Objective value (absolute difference between sums of partitions).\n",
    "        \"\"\"\n",
    "        sum_0 = 0\n",
    "        sum_1 = 0\n",
    "        for i in range(len(bit_string)):\n",
    "            if bit_string[i] == '0':\n",
    "                sum_0 += arr[i]\n",
    "            else:\n",
    "                sum_1 += arr[i]\n",
    "        return abs(sum_0 - sum_1)\n",
    "#qubo is my npp_obj its a way of calculating the cost given a string)\n",
    "\n",
    "    # Objective function we want to optimize\n",
    "    def expectation_value(theta):\n",
    "        # Global variables update\n",
    "        global func_call \n",
    "        func_call = func_call + 1\n",
    "\n",
    "        # Splitting the theta array into gammas and betas\n",
    "        middle = int(len(theta)/2)\n",
    "        gammas = theta[:middle]\n",
    "        betas = theta[middle:]\n",
    "\n",
    "        # Input string for the Q# function.\n",
    "        input_str = f\"{num_qubits},{layers},{arr_to_str(gammas)},{arr_to_str(betas)},{arr_to_str(quadratics)},{arr_to_str(linears[0])}\"\n",
    "\n",
    "        # Calling the Q# function with 100 shots.\n",
    "        int_results = qsharp.run(f\"qaoa_note.circuit({input_str})\",shots=100)\n",
    "\n",
    "        # Converting the results to counts\n",
    "        counts = integer_to_counts(num_qubits, int_results)\n",
    "        avg = 0\n",
    "        sum_count = 0\n",
    "        for bit_string, count in counts.items():\n",
    "            obj = npp_obj(bit_string, arr)\n",
    "            avg += obj * count\n",
    "            sum_count += count\n",
    "            \n",
    "        exp = avg/sum_count\n",
    "        \n",
    "        # Calculating the expectation value for the best solution\n",
    "        # best_sol = max(counts, key=counts.get)\n",
    "        # exp =  qubo.objective.evaluate(np.array(list(best_sol), dtype='int'))\n",
    "        \n",
    "        # Appending to cost array\n",
    "        cost.append(exp)\n",
    "        \n",
    "        # Printing the cost\n",
    "        print(f'Function call: {func_call} - Cost: {exp}')\n",
    "\n",
    "        return exp\n",
    "  \n",
    "\n",
    "    # Initial guess for gammas and betas\n",
    "    init_gamma = np.array([.5] * layers)\n",
    "    init_beta = np.array([.5] * layers)\n",
    "    initial_guess = np.concatenate((init_gamma, init_beta))\n",
    "    # initial_guess = [1,1,1,1] \n",
    "    # Minimization of the objective function. We are using the COBYLA optimizer.\n",
    "    start_time = time.time()\n",
    "    res = minimize(expectation_value, initial_guess, method='COBYLA',callback=callback_func)\n",
    "    end_time = time.time()\n",
    "    elapsed_time = end_time - start_time\n",
    "\n",
    "    print(f'\\nElapsed time for QAOA: {elapsed_time} seconds')\n",
    "\n",
    "    # Preparing the final gammas and betas\n",
    "    middle = int(len(res.x)/2)\n",
    "    prime_gammas = res.x[:middle]\n",
    "    prime_betas = res.x[middle:]\n",
    "\n",
    "    # Printing the optimal parameters\n",
    "    print(f'Gammas: {prime_gammas}\\nBetas: {prime_betas}\\nFinal Cost: {res.fun}\\n')\n",
    "\n",
    "    # Preparing the input string with optimal gammas and betas \n",
    "    input_str = f\"{num_qubits},{layers},{arr_to_str(prime_gammas)},{arr_to_str(prime_betas)},{arr_to_str(quadratics)},{arr_to_str(linears[0])}\"\n",
    "\n",
    "    # Calling the Q# function with optimal gammas and betas\n",
    "    results = qsharp.run(f\"qaoa_note.circuit({input_str})\",shots=100)\n",
    "    counts = integer_to_counts(num_qubits, results)\n",
    "    \n",
    "    return counts\n",
    "\n",
    "# Defining a test array\n",
    "test_array = [2,1,3,5]\n",
    "layers = 2\n",
    "\n",
    "# Running QAOA on for Number Partitioning.\n",
    "counts = qaoa_NPP(test_array,layers)"
   ]
  },
  {
   "cell_type": "code",
   "execution_count": 12,
   "metadata": {},
   "outputs": [
    {
     "data": {
      "image/png": "[encoded data removed]",
      "text/plain": [
       "<Figure size 1500x500 with 1 Axes>"
      ]
     },
     "metadata": {},
     "output_type": "display_data"
    }
   ],
   "source": [
    "# Plotting the optimal output state.\n",
    "plt.figure(figsize=(15, 5))\n",
    "plt.bar(range(len(counts)), list(counts.values()), align='center', color='red')\n",
    "plt.xticks(range(len(counts)), list(counts.keys()), rotation=90)\n",
    "plt.title(\"QAOA Output State with Optimal Parameters\")\n",
    "plt.xlabel(\"Bitstrings\")\n",
    "plt.ylabel(\"Counts\")\n",
    "plt.grid()\n",
    "plt.show()"
   ]
  },
  {
   "cell_type": "code",
   "execution_count": 13,
   "metadata": {},
   "outputs": [
    {
     "data": {
      "image/png": "[encoded data removed]",
      "text/plain": [
       "<Figure size 1500x500 with 1 Axes>"
      ]
     },
     "metadata": {},
     "output_type": "display_data"
    }
   ],
   "source": [
    "# Plotting Cost vs Iterations.\n",
    "plt.figure(figsize=(15, 5))\n",
    "plt.plot(range(len(cost)),cost,color='g',ls='--',marker='o',lw=2)\n",
    "plt.xticks(range(1,len(cost)+1,5))\n",
    "plt.title('Cost vs. Iterations')\n",
    "plt.xlabel('Iterations')\n",
    "plt.ylabel('Cost')\n",
    "plt.grid()\n",
    "plt.show()"
   ]
  },
  {
   "cell_type": "code",
   "execution_count": 14,
   "metadata": {},
   "outputs": [],
   "source": [
    "# Function to print solutions for NPP.\n",
    "def print_solution(counts):\n",
    "    \n",
    "    # Printing Solutions Sets.\n",
    "    best_sol = find_most_common_solutions(counts,3)\n",
    "    print(f'Top 3 solutions for the array {test_array} and {layers} layers: \\n{best_sol}')\n",
    "\n",
    "    # Calculating S and S_A\n",
    "    S = []\n",
    "    S_A = []\n",
    "    for ind,bit in enumerate(best_sol[0]):\n",
    "        if bit == '1':\n",
    "            S.append(ind)\n",
    "        else:\n",
    "            S_A.append(ind)\n",
    "\n",
    "    # Calculating Sum(S) and Sum(S/A)\n",
    "    sum_S = sum(np.array(test_array)[S])\n",
    "    sum_S_A = sum(np.array(test_array)[S_A])\n",
    "\n",
    "    # Printing the best optimal partition.\n",
    "    print(f'\\nBest Partition:\\nS: {np.array(test_array)[S]}\\nSum(S) = {sum_S}\\n\\nS/A: {np.array(test_array)[S_A]}\\nSum(S/A) = {sum_S_A}')\n",
    "    return None"
   ]
  },
  {
   "cell_type": "code",
   "execution_count": 15,
   "metadata": {},
   "outputs": [
    {
     "name": "stdout",
     "output_type": "stream",
     "text": [
      "Top 3 solutions for the array [2, 1, 3, 5] and 2 layers: \n",
      "['0001', '1110', '0011']\n",
      "\n",
      "Best Partition:\n",
      "S: [5]\n",
      "Sum(S) = 5\n",
      "\n",
      "S/A: [2 1 3]\n",
      "Sum(S/A) = 6\n"
     ]
    }
   ],
   "source": [
    "print_solution(counts)"
   ]
  },
  {
   "cell_type": "code",
   "execution_count": null,
   "metadata": {},
   "outputs": [],
   "source": []
  }
 ],
 "metadata": {
  "kernelspec": {
   "display_name": "Python 3 (ipykernel)",
   "language": "python",
   "name": "python3"
  },
  "language_info": {
   "codemirror_mode": {
    "name": "ipython",
    "version": 3
   },
   "file_extension": ".py",
   "mimetype": "text/x-python",
   "name": "python",
   "nbconvert_exporter": "python",
   "pygments_lexer": "ipython3",
   "version": "3.12.4"
  }
 },
 "nbformat": 4,
 "nbformat_minor": 4
}
